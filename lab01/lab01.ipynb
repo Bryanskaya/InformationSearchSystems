{
 "cells": [
  {
   "cell_type": "markdown",
   "metadata": {},
   "source": [
    "# Лабораторная работа 1"
   ]
  },
  {
   "cell_type": "markdown",
   "metadata": {},
   "source": [
    "Стемминг и лемматизация -- частные случаи нормализации\n",
    "\n",
    "Стемминг -- только корень\n",
    "\n",
    "Лемматизация -- н.ф."
   ]
  },
  {
   "cell_type": "code",
   "execution_count": 11,
   "metadata": {},
   "outputs": [
    {
     "name": "stdout",
     "output_type": "stream",
     "text": [
      "Requirement already satisfied: razdel in c:\\users\\ekaterina.bryanskaya\\appdata\\local\\programs\\python\\python37\\lib\\site-packages (0.5.0)Note: you may need to restart the kernel to use updated packages.\n",
      "\n"
     ]
    },
    {
     "name": "stderr",
     "output_type": "stream",
     "text": [
      "\n",
      "[notice] A new release of pip is available: 23.2.1 -> 24.0\n",
      "[notice] To update, run: python.exe -m pip install --upgrade pip\n"
     ]
    },
    {
     "name": "stdout",
     "output_type": "stream",
     "text": [
      "Requirement already satisfied: pymystem3 in c:\\users\\ekaterina.bryanskaya\\appdata\\local\\programs\\python\\python37\\lib\\site-packages (0.2.0)\n",
      "Requirement already satisfied: requests in c:\\users\\ekaterina.bryanskaya\\appdata\\local\\programs\\python\\python37\\lib\\site-packages (from pymystem3) (2.31.0)\n",
      "Requirement already satisfied: charset-normalizer<4,>=2 in c:\\users\\ekaterina.bryanskaya\\appdata\\local\\programs\\python\\python37\\lib\\site-packages (from requests->pymystem3) (3.3.2)\n",
      "Requirement already satisfied: idna<4,>=2.5 in c:\\users\\ekaterina.bryanskaya\\appdata\\local\\programs\\python\\python37\\lib\\site-packages (from requests->pymystem3) (3.6)\n",
      "Requirement already satisfied: urllib3<3,>=1.21.1 in c:\\users\\ekaterina.bryanskaya\\appdata\\local\\programs\\python\\python37\\lib\\site-packages (from requests->pymystem3) (1.26.15)\n",
      "Requirement already satisfied: certifi>=2017.4.17 in c:\\users\\ekaterina.bryanskaya\\appdata\\local\\programs\\python\\python37\\lib\\site-packages (from requests->pymystem3) (2024.2.2)\n",
      "Note: you may need to restart the kernel to use updated packages.\n"
     ]
    },
    {
     "name": "stderr",
     "output_type": "stream",
     "text": [
      "\n",
      "[notice] A new release of pip is available: 23.2.1 -> 24.0\n",
      "[notice] To update, run: python.exe -m pip install --upgrade pip\n"
     ]
    },
    {
     "name": "stdout",
     "output_type": "stream",
     "text": [
      "Requirement already satisfied: pymorphy3 in c:\\users\\ekaterina.bryanskaya\\appdata\\local\\programs\\python\\python37\\lib\\site-packages (2.0.1)Note: you may need to restart the kernel to use updated packages.\n",
      "\n",
      "Requirement already satisfied: dawg-python>=0.7.1 in c:\\users\\ekaterina.bryanskaya\\appdata\\local\\programs\\python\\python37\\lib\\site-packages (from pymorphy3) (0.7.2)\n",
      "Requirement already satisfied: pymorphy3-dicts-ru in c:\\users\\ekaterina.bryanskaya\\appdata\\local\\programs\\python\\python37\\lib\\site-packages (from pymorphy3) (2.4.417150.4580142)\n"
     ]
    },
    {
     "name": "stderr",
     "output_type": "stream",
     "text": [
      "\n",
      "[notice] A new release of pip is available: 23.2.1 -> 24.0\n",
      "[notice] To update, run: python.exe -m pip install --upgrade pip\n"
     ]
    },
    {
     "name": "stdout",
     "output_type": "stream",
     "text": [
      "Requirement already satisfied: nltk in c:\\users\\ekaterina.bryanskaya\\appdata\\local\\programs\\python\\python37\\lib\\site-packages (3.8.1)\n",
      "Requirement already satisfied: click in c:\\users\\ekaterina.bryanskaya\\appdata\\local\\programs\\python\\python37\\lib\\site-packages (from nltk) (8.1.7)\n",
      "Requirement already satisfied: joblib in c:\\users\\ekaterina.bryanskaya\\appdata\\local\\programs\\python\\python37\\lib\\site-packages (from nltk) (1.2.0)\n",
      "Requirement already satisfied: regex>=2021.8.3 in c:\\users\\ekaterina.bryanskaya\\appdata\\local\\programs\\python\\python37\\lib\\site-packages (from nltk) (2023.12.25)\n",
      "Requirement already satisfied: tqdm in c:\\users\\ekaterina.bryanskaya\\appdata\\local\\programs\\python\\python37\\lib\\site-packages (from nltk) (4.66.2)\n",
      "Requirement already satisfied: colorama in c:\\users\\ekaterina.bryanskaya\\appdata\\roaming\\python\\python37\\site-packages (from click->nltk) (0.4.6)\n",
      "Requirement already satisfied: importlib-metadata in c:\\users\\ekaterina.bryanskaya\\appdata\\local\\programs\\python\\python37\\lib\\site-packages (from click->nltk) (6.7.0)\n",
      "Requirement already satisfied: zipp>=0.5 in c:\\users\\ekaterina.bryanskaya\\appdata\\local\\programs\\python\\python37\\lib\\site-packages (from importlib-metadata->click->nltk) (3.15.0)\n",
      "Requirement already satisfied: typing-extensions>=3.6.4 in c:\\users\\ekaterina.bryanskaya\\appdata\\local\\programs\\python\\python37\\lib\\site-packages (from importlib-metadata->click->nltk) (4.5.0)\n",
      "Note: you may need to restart the kernel to use updated packages.\n"
     ]
    },
    {
     "name": "stderr",
     "output_type": "stream",
     "text": [
      "\n",
      "[notice] A new release of pip is available: 23.2.1 -> 24.0\n",
      "[notice] To update, run: python.exe -m pip install --upgrade pip\n"
     ]
    },
    {
     "name": "stdout",
     "output_type": "stream",
     "text": [
      "Requirement already satisfied: urllib3 in c:\\users\\ekaterina.bryanskaya\\appdata\\local\\programs\\python\\python37\\lib\\site-packages (1.26.15)Note: you may need to restart the kernel to use updated packages.\n"
     ]
    },
    {
     "name": "stderr",
     "output_type": "stream",
     "text": [
      "\n",
      "[notice] A new release of pip is available: 23.2.1 -> 24.0\n",
      "[notice] To update, run: python.exe -m pip install --upgrade pip\n"
     ]
    },
    {
     "name": "stdout",
     "output_type": "stream",
     "text": [
      "\n"
     ]
    }
   ],
   "source": [
    "%pip install razdel\n",
    "%pip install pymystem3\n",
    "%pip install pymorphy3\n",
    "%pip install nltk\n",
    "%pip install urllib3"
   ]
  },
  {
   "cell_type": "code",
   "execution_count": 12,
   "metadata": {},
   "outputs": [],
   "source": [
    "from razdel import sentenize, tokenize as razdel_tokenize\n",
    "from pymorphy3 import MorphAnalyzer\n",
    "from nltk.tokenize import word_tokenize, wordpunct_tokenize\n",
    "from pymystem3 import Mystem\n"
   ]
  },
  {
   "cell_type": "markdown",
   "metadata": {},
   "source": [
    "### 1. Ошибки токенизации\n",
    "Найдите 1 любой способ сломать токенизацию на предложения функцией sentenize из библиотеки razdel. Придумайте (или найдите на каком-то корпусе) такое предложение (или несколько предложений), которое будет некорректно разобрано sentenize, но при этом будет грамматически верным."
   ]
  },
  {
   "cell_type": "code",
   "execution_count": 13,
   "metadata": {},
   "outputs": [],
   "source": [
    "# Проблема с обработкой предложений с прямой речью, содержащей более 1 предложения.\n",
    "\n",
    "text = \"\"\"\n",
    "Она задумалась и шепотом произнесла: \"Как же я доберусь до дома? Я же промокну!\"\n",
    "\"\"\""
   ]
  },
  {
   "cell_type": "code",
   "execution_count": 14,
   "metadata": {},
   "outputs": [
    {
     "data": {
      "text/plain": [
       "[Substring(1,\n",
       "           65,\n",
       "           'Она задумалась и шепотом произнесла: \"Как же я доберусь до дома?'),\n",
       " Substring(66, 81, 'Я же промокну!\"')]"
      ]
     },
     "execution_count": 14,
     "metadata": {},
     "output_type": "execute_result"
    }
   ],
   "source": [
    "sents = list(sentenize(text))\n",
    "sents"
   ]
  },
  {
   "cell_type": "code",
   "execution_count": 15,
   "metadata": {},
   "outputs": [
    {
     "data": {
      "text/plain": [
       "[Substring(1,\n",
       "           188,\n",
       "           'Это была наша последняя встреча перед её отъездом в Кисловодск. ...Прошло 10 лет, я постарел и вернулся на наше место снова, по счастливой случайности и она вернулась в края своей юности.')]"
      ]
     },
     "execution_count": 15,
     "metadata": {},
     "output_type": "execute_result"
    }
   ],
   "source": [
    "# Проблема с идентификацией предложений, начинающиеся с многоточия, обозначающие значительный временной промежуток\n",
    "text = \"\"\"\n",
    "Это была наша последняя встреча перед её отъездом в Кисловодск. ...Прошло 10 лет, я постарел и вернулся на наше место снова, по счастливой случайности и она вернулась в края своей юности.\n",
    "\"\"\"\n",
    "list(sentenize(text))"
   ]
  },
  {
   "cell_type": "markdown",
   "metadata": {},
   "source": [
    "### 2. Токенизация Mystem vs razdel.tokenize\n",
    "Токенизируйте текст (не менее 10 предложений, можно взять любую статью Вики) с помощью razdel и с помощью Mystem. Найдите различия в токенизациях. Что, по вашему мнению, работает лучше на этом тексте?"
   ]
  },
  {
   "cell_type": "code",
   "execution_count": 16,
   "metadata": {},
   "outputs": [],
   "source": [
    "mystem = Mystem()"
   ]
  },
  {
   "cell_type": "code",
   "execution_count": 17,
   "metadata": {},
   "outputs": [],
   "source": [
    "text = \"\"\"\n",
    "Геральт в последний раз выглянул в окно дворца. Быстро темнело. За озером помигивали туманные огоньки Вызимы. Вокруг дворца раскинулся пустырь — полоса ничейной земли, которой город за шесть лет отгородился от опасного места, не оставив ничего, кроме развалин, прогнивших балок и остатков щербатого частокола, которые разбирать и переносить, видимо, не окупалось. Дальше всего, на другой край города, перенес свою резиденцию сам король — пузатая башня нового дворца чернела вдали на фоне темно-синего неба.\n",
    "\n",
    "Ведьмак вернулся к запыленному столу, за которым в одной из пустых, разграбленных комнат готовился. Не спеша, спокойно, обстоятельно. Времени, как он знал, было достаточно. До полуночи упырица из склепа не вылезет.\n",
    "\n",
    "Перед ним на столе стоял небольшой окованный сундучок. Геральт открыл его. Там тесно, в выложенных сухой травой отделениях, стояли флакончики из темного стекла. Ведьмак вынул три.\n",
    "\"\"\""
   ]
  },
  {
   "cell_type": "code",
   "execution_count": 18,
   "metadata": {},
   "outputs": [],
   "source": [
    "razdel_tokens = [raw_token.text for raw_token in razdel_tokenize(text)]\n",
    "\n",
    "words_analized = mystem.analyze(text)\n",
    "mystem_tokens = [parse['text'] for parse in words_analized if parse.get('analysis')]"
   ]
  },
  {
   "cell_type": "code",
   "execution_count": 19,
   "metadata": {},
   "outputs": [],
   "source": [
    "set_mystem = set(mystem_tokens)\n",
    "set_razdel = set(razdel_tokens)"
   ]
  },
  {
   "cell_type": "code",
   "execution_count": 20,
   "metadata": {},
   "outputs": [
    {
     "data": {
      "text/plain": [
       "{',', '.', '—'}"
      ]
     },
     "execution_count": 20,
     "metadata": {},
     "output_type": "execute_result"
    }
   ],
   "source": [
    "set_razdel - set_mystem"
   ]
  },
  {
   "cell_type": "code",
   "execution_count": 21,
   "metadata": {},
   "outputs": [
    {
     "data": {
      "text/plain": [
       "set()"
      ]
     },
     "execution_count": 21,
     "metadata": {},
     "output_type": "execute_result"
    }
   ],
   "source": [
    "set_mystem - set_razdel"
   ]
  },
  {
   "cell_type": "markdown",
   "metadata": {},
   "source": [
    "### 3. Лемматизация Mystem vs Pymorphy\n",
    "Лемматизируйте текст с помощью mystem и pymorphy. Найдите различия в лемматизации. Что, по вашему мнению, работает лучше на этом тексте?"
   ]
  },
  {
   "cell_type": "code",
   "execution_count": 26,
   "metadata": {},
   "outputs": [
    {
     "data": {
      "text/plain": [
       "['Геральт',\n",
       " 'в',\n",
       " 'последний',\n",
       " 'раз',\n",
       " 'выглянул',\n",
       " 'в',\n",
       " 'окно',\n",
       " 'дворца',\n",
       " 'Быстро',\n",
       " 'темнело',\n",
       " 'За',\n",
       " 'озером',\n",
       " 'помигивали',\n",
       " 'туманные',\n",
       " 'огоньки',\n",
       " 'Вызимы',\n",
       " 'Вокруг',\n",
       " 'дворца',\n",
       " 'раскинулся',\n",
       " 'пустырь',\n",
       " 'полоса',\n",
       " 'ничейной',\n",
       " 'земли',\n",
       " 'которой',\n",
       " 'город',\n",
       " 'за',\n",
       " 'шесть',\n",
       " 'лет',\n",
       " 'отгородился',\n",
       " 'от',\n",
       " 'опасного',\n",
       " 'места',\n",
       " 'не',\n",
       " 'оставив',\n",
       " 'ничего',\n",
       " 'кроме',\n",
       " 'развалин',\n",
       " 'прогнивших',\n",
       " 'балок',\n",
       " 'и',\n",
       " 'остатков',\n",
       " 'щербатого',\n",
       " 'частокола',\n",
       " 'которые',\n",
       " 'разбирать',\n",
       " 'и',\n",
       " 'переносить',\n",
       " 'видимо',\n",
       " 'не',\n",
       " 'окупалось',\n",
       " 'Дальше',\n",
       " 'всего',\n",
       " 'на',\n",
       " 'другой',\n",
       " 'край',\n",
       " 'города',\n",
       " 'перенес',\n",
       " 'свою',\n",
       " 'резиденцию',\n",
       " 'сам',\n",
       " 'король',\n",
       " 'пузатая',\n",
       " 'башня',\n",
       " 'нового',\n",
       " 'дворца',\n",
       " 'чернела',\n",
       " 'вдали',\n",
       " 'на',\n",
       " 'фоне',\n",
       " 'темно-синего',\n",
       " 'неба',\n",
       " 'Ведьмак',\n",
       " 'вернулся',\n",
       " 'к',\n",
       " 'запыленному',\n",
       " 'столу',\n",
       " 'за',\n",
       " 'которым',\n",
       " 'в',\n",
       " 'одной',\n",
       " 'из',\n",
       " 'пустых',\n",
       " 'разграбленных',\n",
       " 'комнат',\n",
       " 'готовился',\n",
       " 'Не',\n",
       " 'спеша',\n",
       " 'спокойно',\n",
       " 'обстоятельно',\n",
       " 'Времени',\n",
       " 'как',\n",
       " 'он',\n",
       " 'знал',\n",
       " 'было',\n",
       " 'достаточно',\n",
       " 'До',\n",
       " 'полуночи',\n",
       " 'упырица',\n",
       " 'из',\n",
       " 'склепа',\n",
       " 'не',\n",
       " 'вылезет',\n",
       " 'Перед',\n",
       " 'ним',\n",
       " 'на',\n",
       " 'столе',\n",
       " 'стоял',\n",
       " 'небольшой',\n",
       " 'окованный',\n",
       " 'сундучок',\n",
       " 'Геральт',\n",
       " 'открыл',\n",
       " 'его',\n",
       " 'Там',\n",
       " 'тесно',\n",
       " 'в',\n",
       " 'выложенных',\n",
       " 'сухой',\n",
       " 'травой',\n",
       " 'отделениях',\n",
       " 'стояли',\n",
       " 'флакончики',\n",
       " 'из',\n",
       " 'темного',\n",
       " 'стекла',\n",
       " 'Ведьмак',\n",
       " 'вынул',\n",
       " 'три']"
      ]
     },
     "execution_count": 26,
     "metadata": {},
     "output_type": "execute_result"
    }
   ],
   "source": [
    "mystem_tokens"
   ]
  },
  {
   "cell_type": "code",
   "execution_count": 22,
   "metadata": {},
   "outputs": [],
   "source": [
    "mystem_lem = mystem.lemmatize(text)\n",
    "\n",
    "morph = MorphAnalyzer()\n",
    "words_analized = [morph.parse(token) for token in mystem_tokens]"
   ]
  },
  {
   "cell_type": "code",
   "execution_count": 23,
   "metadata": {},
   "outputs": [],
   "source": [
    "set_mystem_lem = set(mystem_lem)\n",
    "set_morphed_lem = set([word_analized[0].normal_form for word_analized in words_analized])"
   ]
  },
  {
   "cell_type": "code",
   "execution_count": 24,
   "metadata": {},
   "outputs": [
    {
     "data": {
      "text/plain": [
       "{'\\n',\n",
       " ' ',\n",
       " ' — ',\n",
       " ', ',\n",
       " '.',\n",
       " '. ',\n",
       " 'было',\n",
       " 'все',\n",
       " 'выглядывать',\n",
       " 'вызть',\n",
       " 'выкладывать',\n",
       " 'вылезать',\n",
       " 'вынимать',\n",
       " 'далеко',\n",
       " 'ничто',\n",
       " 'огонек',\n",
       " 'оковывать',\n",
       " 'оставлять',\n",
       " 'отгораживаться',\n",
       " 'открывать',\n",
       " 'полночь',\n",
       " 'прогнивать',\n",
       " 'раскидываться',\n",
       " 'темно-синий',\n",
       " 'темный'}"
      ]
     },
     "execution_count": 24,
     "metadata": {},
     "output_type": "execute_result"
    }
   ],
   "source": [
    "set_mystem_lem - set_morphed_lem"
   ]
  },
  {
   "cell_type": "code",
   "execution_count": 25,
   "metadata": {},
   "outputs": [
    {
     "data": {
      "text/plain": [
       "{'быть',\n",
       " 'весь',\n",
       " 'выглянуть',\n",
       " 'вызима',\n",
       " 'вылезти',\n",
       " 'выложить',\n",
       " 'вынуть',\n",
       " 'далёкий',\n",
       " 'ничего',\n",
       " 'огонёк',\n",
       " 'оковать',\n",
       " 'они',\n",
       " 'оставить',\n",
       " 'отгородиться',\n",
       " 'открыть',\n",
       " 'полуночь',\n",
       " 'прогнить',\n",
       " 'раскинуться',\n",
       " 'тёмно-синий',\n",
       " 'тёмный'}"
      ]
     },
     "execution_count": 25,
     "metadata": {},
     "output_type": "execute_result"
    }
   ],
   "source": [
    "set_morphed_lem - set_mystem_lem"
   ]
  }
 ],
 "metadata": {
  "kernelspec": {
   "display_name": "Python 3",
   "language": "python",
   "name": "python3"
  },
  "language_info": {
   "codemirror_mode": {
    "name": "ipython",
    "version": 3
   },
   "file_extension": ".py",
   "mimetype": "text/x-python",
   "name": "python",
   "nbconvert_exporter": "python",
   "pygments_lexer": "ipython3",
   "version": "3.7.2"
  }
 },
 "nbformat": 4,
 "nbformat_minor": 2
}
